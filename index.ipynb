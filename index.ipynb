import numpy as np
a = np.array([1, 2, 5, 3]) 
  print ("Adding 1 to every element:", a+1) 
print ("Subtracting 3 from each element:", a-3) 
print ("Multiplying each element by 10:", a*10) 
