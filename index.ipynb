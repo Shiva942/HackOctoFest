import numpy as np

F = np.array([1, 1, 2, 3, 5, 8, 13, 21])
# print the first element of F
print(F[0])
# print the last element of F
print(F[-1])
np_arr = np.array([ [1,2,3],
                    [4,5,6],
                    [7,8,9]])
print(np_arr[:])        # Display all rows and columns                    
print(np_arr[:,:])      # Display all rows and columns
print(np_arr[0:3, 0:3]) # Display all rows and columns
print(np_arr[0:2])      # Display 0th row & 1st Row and All Columns (Since Columns are not specified)
print(np_arr[0:3,0:2])  # Display all rows but only 0th and 1st column i.e (0, 1) exluding 2
print(np_arr[:,1])      # Display all rows but only 2nd column 
print(np_arr[:,0:2])    # Display all rows and 0th and 1st Column
