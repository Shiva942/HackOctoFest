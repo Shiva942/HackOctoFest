from numpy import array
a=array([1,2,3])
print(a)
b=array([1,2,3])
print(b)
c=a.dot(b)
print(c)
