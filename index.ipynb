import numpy as np
import sys
import math
import matplotlib as mtp

import os
in_array = [0, math.pi / 2, np.pi / 3, np.pi]
print ("Input array : \n", in_array)
a = np.array([1,2,3])
print(a)

c= [20.1, 20.8, 21.9, 22.5, 22.7, 22.3, 21.8, 21.2, 20.9, 20.1]
print(sys.getsizeof(c))
TC=np.array(c)
print(sys.getsizeof(TC))
print(TC)
print(type(TC))
print("Temprature in degrees Fahrenheit")
print(TC*9/5+32)

thisdict = {
  "brand": "Ford",
  "model": "Mustang",
  "year": 1964
}
print(thisdict)
